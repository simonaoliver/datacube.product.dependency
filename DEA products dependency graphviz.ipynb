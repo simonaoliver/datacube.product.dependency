{
 "cells": [
  {
   "cell_type": "markdown",
   "metadata": {},
   "source": [
    "# Generate a product dependency graph from ODC DEA product"
   ]
  },
  {
   "cell_type": "code",
   "execution_count": 83,
   "metadata": {},
   "outputs": [],
   "source": [
    "import string\n",
    "from graphviz import Digraph\n",
    "import datacube\n",
    "dc = datacube.Datacube()"
   ]
  },
  {
   "cell_type": "markdown",
   "metadata": {},
   "source": [
    "# Get Candidate Product UUID"
   ]
  },
  {
   "cell_type": "code",
   "execution_count": 84,
   "metadata": {},
   "outputs": [
    {
     "name": "stdout",
     "output_type": "stream",
     "text": [
      "aster_aloh_group_composition\n",
      "aster_aloh_group_content\n",
      "aster_false_colour\n",
      "aster_feoh_group_content\n",
      "aster_ferric_oxide_composition\n",
      "aster_ferric_oxide_content\n",
      "aster_ferrous_iron_content_in_mgoh\n",
      "aster_ferrous_iron_index\n",
      "aster_green_vegetation\n",
      "aster_gypsum_index\n",
      "aster_kaolin_group_index\n",
      "aster_mgoh_group_composition\n",
      "aster_mgoh_group_content\n",
      "aster_opaque_index\n",
      "aster_quartz_index\n",
      "aster_regolith_ratios\n",
      "aster_silica_index\n",
      "cemp_insar_alos_displacement\n",
      "cemp_insar_alos_velocity\n",
      "cemp_insar_envisat_displacement\n",
      "cemp_insar_envisat_velocity\n",
      "cemp_insar_radarsat2_displacement\n",
      "cemp_insar_radarsat2_velocity\n",
      "fc_percentile_albers_annual\n",
      "fc_percentile_albers_seasonal\n",
      "ga_ls5t_ard_3\n",
      "ga_ls5t_nbart_gm_cyear_3\n",
      "ga_ls7e_ard_3\n",
      "ga_ls7e_ard_provisional_3\n",
      "ga_ls7e_nbart_gm_cyear_3\n",
      "ga_ls8c_ard_3\n",
      "ga_ls8c_ard_provisional_3\n",
      "ga_ls8c_nbart_gm_cyear_3\n",
      "ga_ls_fc_3\n",
      "ga_ls_landcover_class_cyear_2\n",
      "ga_ls_tcw_percentiles_2\n",
      "ga_ls_wo_3\n",
      "ga_ls_wo_fq_apr_oct_3\n",
      "ga_ls_wo_fq_cyear_3\n",
      "ga_ls_wo_fq_myear_3\n",
      "ga_ls_wo_fq_nov_mar_3\n",
      "ga_s2am_ard_provisional_3\n",
      "ga_s2_ba_provisional_3\n",
      "ga_s2bm_ard_provisional_3\n",
      "ga_srtm_dem1sv1_0\n",
      "geodata_coast_100k\n",
      "high_tide_comp_20p\n",
      "item_v2\n",
      "item_v2_conf\n",
      "landsat_barest_earth\n",
      "low_tide_comp_20p\n",
      "ls5_fc_albers\n",
      "ls5_nbart_geomedian_annual\n",
      "ls5_nbart_tmad_annual\n",
      "ls7_fc_albers\n",
      "ls7_nbart_geomedian_annual\n",
      "ls7_nbart_tmad_annual\n",
      "ls8_barest_earth_albers\n",
      "ls8_fc_albers\n",
      "ls8_nbart_geomedian_annual\n",
      "ls8_nbart_tmad_annual\n",
      "mangrove_cover\n",
      "multi_scale_topographic_position\n",
      "nidem\n",
      "s1_gamma0_geotif_scene\n",
      "s2a_ard_granule\n",
      "s2a_nrt_granule\n",
      "s2b_ard_granule\n",
      "s2_barest_earth\n",
      "s2b_nrt_granule\n",
      "water_bodies\n",
      "weathering_intensity\n",
      "wofs_albers\n",
      "wofs_annual_summary\n",
      "wofs_apr_oct_summary\n",
      "wofs_filtered_summary\n",
      "wofs_nov_mar_summary\n",
      "wofs_summary\n"
     ]
    }
   ],
   "source": [
    "for i in dc.list_products().name:\n",
    "    print(i)"
   ]
  },
  {
   "cell_type": "code",
   "execution_count": 85,
   "metadata": {},
   "outputs": [],
   "source": [
    "def get_sample_product_id(product):\n",
    "    # get a sample id to represent the product\n",
    "    sample_id = dc.index.datasets.search_eager(product=product)[0].metadata_doc['id']\n",
    "    return(sample_id)"
   ]
  },
  {
   "cell_type": "code",
   "execution_count": 86,
   "metadata": {},
   "outputs": [],
   "source": [
    "def get_source_product(sample_id):\n",
    "    # retrieve a sample metadata source using the sample_id but with sources included (excluded by default)\n",
    "    sample_md = dc.index.datasets.get(sample_id, include_sources=True)\n",
    "   \n",
    "    sources_dict = {}\n",
    "    product_list = []\n",
    "    \n",
    "    for i in sample_md.sources:\n",
    "        \n",
    "        sources_dict[sample_md.sources[i].type.name] = str(sample_md.sources[i].id)\n",
    "        \n",
    "    return(({sample_md.type.name: list(set(sources_dict))} , sources_dict))\n",
    "    "
   ]
  },
  {
   "cell_type": "code",
   "execution_count": 5,
   "metadata": {},
   "outputs": [],
   "source": [
    "# Example execution to seed graph with product of choice\n",
    "#product_id = get_sample_product_id('high_tide_comp_20p')"
   ]
  },
  {
   "cell_type": "code",
   "execution_count": 9,
   "metadata": {},
   "outputs": [],
   "source": [
    "# Manually manufacture a candidate product UUID for a list of products\n",
    "product_list = ['ga_ls5t_ard_3',\n",
    "'ga_ls5t_nbart_gm_cyear_3',\n",
    "'ga_ls7e_ard_3',\n",
    "'ga_ls7e_ard_provisional_3',\n",
    "'ga_ls7e_nbart_gm_cyear_3',\n",
    "'ga_ls8c_ard_3',\n",
    "'ga_ls8c_ard_provisional_3',\n",
    "'ga_ls8c_nbart_gm_cyear_3',\n",
    "'ga_ls_fc_3',\n",
    "'ga_ls_wo_3',\n",
    "'ga_ls_wo_fq_apr_oct_3',\n",
    "'ga_ls_wo_fq_cyear_3',\n",
    "'ga_ls_wo_fq_myear_3',\n",
    "'ga_ls_wo_fq_nov_mar_3']\n"
   ]
  },
  {
   "cell_type": "code",
   "execution_count": 7,
   "metadata": {},
   "outputs": [],
   "source": [
    "# Manually manufacture a candidate product UUID for a list of products\n",
    "#product_list = [\n",
    "#'wofs_annual_summary',\n",
    "#'wofs_apr_oct_summary',\n",
    "#'wofs_filtered_summary',\n",
    "#'wofs_nov_mar_summary',\n",
    "#'wofs_summary']"
   ]
  },
  {
   "cell_type": "code",
   "execution_count": 10,
   "metadata": {},
   "outputs": [
    {
     "name": "stdout",
     "output_type": "stream",
     "text": [
      "['ga_ls5t_ard_3', 'c65d65f8-aabd-4fea-b2ca-f1673b05da88']\n",
      "['ga_ls5t_nbart_gm_cyear_3', 'd1922cf0-81fa-4d3a-8ca2-87300ab8ec38']\n",
      "['ga_ls7e_ard_3', '4498367b-0481-49fe-9b58-063f2e9d2864']\n",
      "['ga_ls7e_ard_provisional_3', '64ad5409-39c0-49ed-aa5e-da9216cbbbb0']\n",
      "['ga_ls7e_nbart_gm_cyear_3', '6a7b6b79-7fc9-4c35-b4ee-ebfae26ac244']\n",
      "['ga_ls8c_ard_3', '9014d183-527a-4106-9053-037c35d3f38b']\n",
      "['ga_ls8c_ard_provisional_3', '803b1db2-3537-4cbe-a70c-7a9ce1e14216']\n",
      "['ga_ls8c_nbart_gm_cyear_3', '5e2443b9-ee0a-492d-9cea-252a723e646f']\n",
      "['ga_ls_fc_3', '71766196-2207-5dc4-8e2f-ba6ad42bd3f2']\n",
      "['ga_ls_wo_3', 'd49e541b-3271-53a6-9c4e-816ce1a880d9']\n",
      "['ga_ls_wo_fq_apr_oct_3', 'c90ed428-7f62-4eb7-8ab0-b95466efcf76']\n",
      "['ga_ls_wo_fq_cyear_3', '65c0e2d0-871f-4606-9195-8ff4c3c76b79']\n",
      "['ga_ls_wo_fq_myear_3', '6fe15c55-2ca6-44bf-ab44-a2392e55021c']\n",
      "['ga_ls_wo_fq_nov_mar_3', '7edc36ed-8654-4aac-91a1-d9a88e22cf1e']\n"
     ]
    }
   ],
   "source": [
    "# Run this to generate UUIDs for the list of product created above\n",
    "# WARNING! takes forever as no shortcut to only search for a representative UUID in a common way\n",
    "\n",
    "product_id_list = []\n",
    "for product in product_list:\n",
    "    print([product, get_sample_product_id(product)])\n",
    "    product_id_list.append([product, get_sample_product_id(product)])"
   ]
  },
  {
   "cell_type": "code",
   "execution_count": 48,
   "metadata": {},
   "outputs": [],
   "source": [
    "product_id_list = [['ga_ls5t_ard_3', 'c65d65f8-aabd-4fea-b2ca-f1673b05da88'],\n",
    "['ga_ls5t_nbart_gm_cyear_3', 'd1922cf0-81fa-4d3a-8ca2-87300ab8ec38'],\n",
    "['ga_ls7e_ard_3', '4498367b-0481-49fe-9b58-063f2e9d2864'],\n",
    "['ga_ls7e_ard_provisional_3', '64ad5409-39c0-49ed-aa5e-da9216cbbbb0'],\n",
    "['ga_ls7e_nbart_gm_cyear_3', '6a7b6b79-7fc9-4c35-b4ee-ebfae26ac244'],\n",
    "['ga_ls8c_ard_3', '9014d183-527a-4106-9053-037c35d3f38b'],\n",
    "['ga_ls8c_ard_provisional_3', '803b1db2-3537-4cbe-a70c-7a9ce1e14216'],\n",
    "['ga_ls8c_nbart_gm_cyear_3', '5e2443b9-ee0a-492d-9cea-252a723e646f'],\n",
    "['ga_ls_fc_3', '71766196-2207-5dc4-8e2f-ba6ad42bd3f2'],\n",
    "['ga_ls_wo_3', 'd49e541b-3271-53a6-9c4e-816ce1a880d9'],\n",
    "['ga_ls_wo_fq_apr_oct_3', 'c90ed428-7f62-4eb7-8ab0-b95466efcf76'],\n",
    "['ga_ls_wo_fq_cyear_3', '65c0e2d0-871f-4606-9195-8ff4c3c76b79'],\n",
    "['ga_ls_wo_fq_myear_3', '6fe15c55-2ca6-44bf-ab44-a2392e55021c'],\n",
    "['ga_ls_wo_fq_nov_mar_3', '7edc36ed-8654-4aac-91a1-d9a88e22cf1e']]"
   ]
  },
  {
   "cell_type": "code",
   "execution_count": 91,
   "metadata": {},
   "outputs": [],
   "source": [
    "def get_source_description(product):\n",
    "    return(products[dc.list_products()['name']==product].description[0])\n",
    "    "
   ]
  },
  {
   "cell_type": "code",
   "execution_count": 49,
   "metadata": {},
   "outputs": [],
   "source": [
    "def get_product_graph(product_id):\n",
    "    id_list = []\n",
    "    sources_list = []\n",
    "    # get an initial set of UUIDs\n",
    "    tree, sources_dict = get_source_product(product_id)\n",
    "\n",
    "    # for each UUID - get their decendent UUID and work up the tree until no sources returned\n",
    "    for source in sources_dict:\n",
    "        id_list.append(sources_dict[source])\n",
    "    sources_list.append(tree)\n",
    "\n",
    "    # while requests for source products return results i.e. not {},\n",
    "    while len(id_list) != 0:\n",
    "\n",
    "        # for each UUID in the list\n",
    "        for i in id_list:        \n",
    "            id_list.remove(i)\n",
    "\n",
    "            tree, sources_dict = get_source_product(i)\n",
    "            if tree not in sources_list:\n",
    "                sources_list.append(tree)\n",
    "            if not sources_dict == {}: \n",
    "                for source in sources_dict:\n",
    "                    id_list.append(sources_dict[source])\n",
    "\n",
    "    alphabet = string.ascii_uppercase\n",
    "    count = 0\n",
    "    dot_list = []\n",
    "    dot = Digraph(comment='DEA Product Dependency Graphviz')\n",
    "    index_alpha = {}\n",
    "    for i in sources_list:\n",
    "        index_alpha[list(i.keys())[0]] = alphabet[count]\n",
    "        dot_list.append((alphabet[count], list(i.keys())[0]))\n",
    "        dot.node(alphabet[count], list(i.keys())[0])\n",
    "        count = count+1\n",
    "    dot_edges = []\n",
    "    for source in sources_list:\n",
    " \n",
    "        for i in source[list(source.keys())[0]]:\n",
    "            if not i == None: \n",
    "                dot_edges.append(index_alpha[i]+index_alpha[list(source.keys())[0]])\n",
    "    dot.edges(dot_edges)\n",
    "    return(dot)"
   ]
  },
  {
   "cell_type": "code",
   "execution_count": 134,
   "metadata": {},
   "outputs": [],
   "source": [
    "product_id = '6fe15c55-2ca6-44bf-ab44-a2392e55021c'\n",
    "\n",
    "id_list = []\n",
    "sources_list = []\n",
    "# get an initial set of UUIDs\n",
    "tree, sources_dict = get_source_product(product_id)\n",
    "\n",
    "# for each UUID - get their decendent UUID and work up the tree until no sources returned\n",
    "for source in sources_dict:\n",
    "    id_list.append(sources_dict[source])\n",
    "sources_list.append(tree)\n",
    "\n",
    "# while requests for source products return results i.e. not {},\n",
    "while len(id_list) != 0:\n",
    "\n",
    "    # for each UUID in the list\n",
    "    for i in id_list:        \n",
    "        id_list.remove(i)\n",
    "\n",
    "        tree, sources_dict = get_source_product(i)\n",
    "        if tree not in sources_list:\n",
    "            sources_list.append(tree)\n",
    "        if not sources_dict == {}: \n",
    "            for source in sources_dict:\n",
    "                id_list.append(sources_dict[source])\n",
    "\n",
    "alphabet = string.ascii_uppercase\n",
    "count = 0\n",
    "dot_list = []\n",
    "dot = Digraph(comment='DEA Product Dependency Graphviz')\n",
    "index_alpha = {}\n",
    "for i in sources_list:\n",
    "    index_alpha[list(i.keys())[0]] = alphabet[count]\n",
    "    dot_list.append((alphabet[count], list(i.keys())[0]))\n",
    "    dot.node(alphabet[count], list(i.keys())[0])\n",
    "    count = count+1\n",
    "dot_edges = []\n",
    "for source in sources_list:\n",
    "\n",
    "    for i in source[list(source.keys())[0]]:\n",
    "        if not i == None: \n",
    "            dot_edges.append(index_alpha[i]+index_alpha[list(source.keys())[0]])\n",
    "dot.edges(dot_edges)"
   ]
  },
  {
   "cell_type": "code",
   "execution_count": 135,
   "metadata": {},
   "outputs": [],
   "source": [
    "index_alpha['ga_ls5t_ard_3'] = 'F'\n",
    "index_alpha['ga_ls7e_ard_3'] = 'E'"
   ]
  },
  {
   "cell_type": "code",
   "execution_count": 136,
   "metadata": {},
   "outputs": [],
   "source": [
    "dot_list.append(('F', 'ga_ls5t_ard_3'))"
   ]
  },
  {
   "cell_type": "code",
   "execution_count": 137,
   "metadata": {},
   "outputs": [],
   "source": [
    "dot_list.append(('E', 'ga_ls7e_ard_3'))"
   ]
  },
  {
   "cell_type": "code",
   "execution_count": 138,
   "metadata": {},
   "outputs": [
    {
     "data": {
      "text/plain": [
       "[('A', 'ga_ls_wo_fq_myear_3'),\n",
       " ('B', 'ga_ls_wo_fq_cyear_3'),\n",
       " ('C', 'ga_ls_wo_3'),\n",
       " ('D', 'ga_ls8c_ard_3'),\n",
       " ('F', 'ga_ls5t_ard_3'),\n",
       " ('E', 'ga_ls7e_ard_3')]"
      ]
     },
     "execution_count": 138,
     "metadata": {},
     "output_type": "execute_result"
    }
   ],
   "source": [
    "dot_list"
   ]
  },
  {
   "cell_type": "code",
   "execution_count": 139,
   "metadata": {},
   "outputs": [
    {
     "data": {
      "text/plain": [
       "['BA', 'CB', 'DC']"
      ]
     },
     "execution_count": 139,
     "metadata": {},
     "output_type": "execute_result"
    }
   ],
   "source": [
    "dot_edges"
   ]
  },
  {
   "cell_type": "code",
   "execution_count": 140,
   "metadata": {},
   "outputs": [],
   "source": [
    "dot_edges.append('FC')\n",
    "dot_edges.append('EC')"
   ]
  },
  {
   "cell_type": "code",
   "execution_count": 141,
   "metadata": {},
   "outputs": [],
   "source": [
    "dot.edges(dot_edges)"
   ]
  },
  {
   "cell_type": "code",
   "execution_count": 142,
   "metadata": {},
   "outputs": [
    {
     "data": {
      "image/svg+xml": [
       "<?xml version=\"1.0\" encoding=\"UTF-8\" standalone=\"no\"?>\n",
       "<!DOCTYPE svg PUBLIC \"-//W3C//DTD SVG 1.1//EN\"\n",
       " \"http://www.w3.org/Graphics/SVG/1.1/DTD/svg11.dtd\">\n",
       "<!-- Generated by graphviz version 2.43.0 (0)\n",
       " -->\n",
       "<!-- Title: %3 Pages: 1 -->\n",
       "<svg width=\"302pt\" height=\"260pt\"\n",
       " viewBox=\"0.00 0.00 302.39 260.00\" xmlns=\"http://www.w3.org/2000/svg\" xmlns:xlink=\"http://www.w3.org/1999/xlink\">\n",
       "<g id=\"graph0\" class=\"graph\" transform=\"scale(1 1) rotate(0) translate(4 256)\">\n",
       "<title>%3</title>\n",
       "<polygon fill=\"white\" stroke=\"transparent\" points=\"-4,4 -4,-256 298.39,-256 298.39,4 -4,4\"/>\n",
       "<!-- A -->\n",
       "<g id=\"node1\" class=\"node\">\n",
       "<title>A</title>\n",
       "<ellipse fill=\"none\" stroke=\"black\" cx=\"135.39\" cy=\"-18\" rx=\"109.38\" ry=\"18\"/>\n",
       "<text text-anchor=\"middle\" x=\"135.39\" y=\"-14.3\" font-family=\"Times,serif\" font-size=\"14.00\">ga_ls_wo_fq_myear_3</text>\n",
       "</g>\n",
       "<!-- B -->\n",
       "<g id=\"node2\" class=\"node\">\n",
       "<title>B</title>\n",
       "<ellipse fill=\"none\" stroke=\"black\" cx=\"135.39\" cy=\"-90\" rx=\"105.08\" ry=\"18\"/>\n",
       "<text text-anchor=\"middle\" x=\"135.39\" y=\"-86.3\" font-family=\"Times,serif\" font-size=\"14.00\">ga_ls_wo_fq_cyear_3</text>\n",
       "</g>\n",
       "<!-- B&#45;&gt;A -->\n",
       "<g id=\"edge1\" class=\"edge\">\n",
       "<title>B&#45;&gt;A</title>\n",
       "<path fill=\"none\" stroke=\"black\" d=\"M129.48,-71.7C128.68,-63.98 128.46,-54.71 128.8,-46.11\"/>\n",
       "<polygon fill=\"black\" stroke=\"black\" points=\"132.29,-46.32 129.5,-36.1 125.31,-45.84 132.29,-46.32\"/>\n",
       "</g>\n",
       "<!-- B&#45;&gt;A -->\n",
       "<g id=\"edge4\" class=\"edge\">\n",
       "<title>B&#45;&gt;A</title>\n",
       "<path fill=\"none\" stroke=\"black\" d=\"M141.31,-71.7C142.1,-63.98 142.33,-54.71 141.99,-46.11\"/>\n",
       "<polygon fill=\"black\" stroke=\"black\" points=\"145.48,-45.84 141.29,-36.1 138.49,-46.32 145.48,-45.84\"/>\n",
       "</g>\n",
       "<!-- C -->\n",
       "<g id=\"node3\" class=\"node\">\n",
       "<title>C</title>\n",
       "<ellipse fill=\"none\" stroke=\"black\" cx=\"135.39\" cy=\"-162\" rx=\"61.99\" ry=\"18\"/>\n",
       "<text text-anchor=\"middle\" x=\"135.39\" y=\"-158.3\" font-family=\"Times,serif\" font-size=\"14.00\">ga_ls_wo_3</text>\n",
       "</g>\n",
       "<!-- C&#45;&gt;B -->\n",
       "<g id=\"edge2\" class=\"edge\">\n",
       "<title>C&#45;&gt;B</title>\n",
       "<path fill=\"none\" stroke=\"black\" d=\"M129.52,-144.05C128.7,-136.35 128.45,-127.03 128.79,-118.36\"/>\n",
       "<polygon fill=\"black\" stroke=\"black\" points=\"132.29,-118.49 129.48,-108.28 125.3,-118.01 132.29,-118.49\"/>\n",
       "</g>\n",
       "<!-- C&#45;&gt;B -->\n",
       "<g id=\"edge5\" class=\"edge\">\n",
       "<title>C&#45;&gt;B</title>\n",
       "<path fill=\"none\" stroke=\"black\" d=\"M141.27,-144.05C142.09,-136.35 142.33,-127.03 142,-118.36\"/>\n",
       "<polygon fill=\"black\" stroke=\"black\" points=\"145.48,-118.01 141.31,-108.28 138.5,-118.49 145.48,-118.01\"/>\n",
       "</g>\n",
       "<!-- D -->\n",
       "<g id=\"node4\" class=\"node\">\n",
       "<title>D</title>\n",
       "<ellipse fill=\"none\" stroke=\"black\" cx=\"75.39\" cy=\"-234\" rx=\"75.29\" ry=\"18\"/>\n",
       "<text text-anchor=\"middle\" x=\"75.39\" y=\"-230.3\" font-family=\"Times,serif\" font-size=\"14.00\">ga_ls8c_ard_3</text>\n",
       "</g>\n",
       "<!-- D&#45;&gt;C -->\n",
       "<g id=\"edge3\" class=\"edge\">\n",
       "<title>D&#45;&gt;C</title>\n",
       "<path fill=\"none\" stroke=\"black\" d=\"M84.04,-216.05C90.66,-207.24 99.83,-196.33 108.66,-186.69\"/>\n",
       "<polygon fill=\"black\" stroke=\"black\" points=\"111.3,-188.99 115.61,-179.31 106.21,-184.19 111.3,-188.99\"/>\n",
       "</g>\n",
       "<!-- D&#45;&gt;C -->\n",
       "<g id=\"edge6\" class=\"edge\">\n",
       "<title>D&#45;&gt;C</title>\n",
       "<path fill=\"none\" stroke=\"black\" d=\"M95.45,-216.41C103.67,-207.91 112.92,-197.37 120.53,-187.91\"/>\n",
       "<polygon fill=\"black\" stroke=\"black\" points=\"123.35,-189.99 126.74,-179.96 117.83,-185.69 123.35,-189.99\"/>\n",
       "</g>\n",
       "<!-- F -->\n",
       "<g id=\"node5\" class=\"node\">\n",
       "<title>F</title>\n",
       "<ellipse fill=\"none\" stroke=\"black\" cx=\"195.39\" cy=\"-234\" rx=\"27\" ry=\"18\"/>\n",
       "<text text-anchor=\"middle\" x=\"195.39\" y=\"-230.3\" font-family=\"Times,serif\" font-size=\"14.00\">F</text>\n",
       "</g>\n",
       "<!-- F&#45;&gt;C -->\n",
       "<g id=\"edge7\" class=\"edge\">\n",
       "<title>F&#45;&gt;C</title>\n",
       "<path fill=\"none\" stroke=\"black\" d=\"M182.37,-217.81C174.76,-208.93 164.97,-197.5 156.3,-187.39\"/>\n",
       "<polygon fill=\"black\" stroke=\"black\" points=\"158.81,-184.94 149.65,-179.63 153.5,-189.5 158.81,-184.94\"/>\n",
       "</g>\n",
       "<!-- E -->\n",
       "<g id=\"node6\" class=\"node\">\n",
       "<title>E</title>\n",
       "<ellipse fill=\"none\" stroke=\"black\" cx=\"267.39\" cy=\"-234\" rx=\"27\" ry=\"18\"/>\n",
       "<text text-anchor=\"middle\" x=\"267.39\" y=\"-230.3\" font-family=\"Times,serif\" font-size=\"14.00\">E</text>\n",
       "</g>\n",
       "<!-- E&#45;&gt;C -->\n",
       "<g id=\"edge8\" class=\"edge\">\n",
       "<title>E&#45;&gt;C</title>\n",
       "<path fill=\"none\" stroke=\"black\" d=\"M246.77,-222.06C226.97,-211.56 196.6,-195.46 172.57,-182.72\"/>\n",
       "<polygon fill=\"black\" stroke=\"black\" points=\"174.19,-179.61 163.71,-178.02 170.91,-185.79 174.19,-179.61\"/>\n",
       "</g>\n",
       "</g>\n",
       "</svg>\n"
      ],
      "text/plain": [
       "<graphviz.dot.Digraph at 0x7f17b0171fa0>"
      ]
     },
     "execution_count": 142,
     "metadata": {},
     "output_type": "execute_result"
    }
   ],
   "source": [
    "dot"
   ]
  },
  {
   "cell_type": "code",
   "execution_count": 50,
   "metadata": {},
   "outputs": [],
   "source": [
    "dotlist = []\n",
    "for i in product_id_list:\n",
    "    dot = get_product_graph(i[1])\n",
    "    dot.render(i[0]+'.gv')\n",
    "    dotlist.append(dot)"
   ]
  },
  {
   "cell_type": "code",
   "execution_count": 51,
   "metadata": {},
   "outputs": [
    {
     "data": {
      "image/svg+xml": [
       "<?xml version=\"1.0\" encoding=\"UTF-8\" standalone=\"no\"?>\n",
       "<!DOCTYPE svg PUBLIC \"-//W3C//DTD SVG 1.1//EN\"\n",
       " \"http://www.w3.org/Graphics/SVG/1.1/DTD/svg11.dtd\">\n",
       "<!-- Generated by graphviz version 2.43.0 (0)\n",
       " -->\n",
       "<!-- Title: %3 Pages: 1 -->\n",
       "<svg width=\"226pt\" height=\"260pt\"\n",
       " viewBox=\"0.00 0.00 226.38 260.00\" xmlns=\"http://www.w3.org/2000/svg\" xmlns:xlink=\"http://www.w3.org/1999/xlink\">\n",
       "<g id=\"graph0\" class=\"graph\" transform=\"scale(1 1) rotate(0) translate(4 256)\">\n",
       "<title>%3</title>\n",
       "<polygon fill=\"white\" stroke=\"transparent\" points=\"-4,4 -4,-256 222.38,-256 222.38,4 -4,4\"/>\n",
       "<!-- A -->\n",
       "<g id=\"node1\" class=\"node\">\n",
       "<title>A</title>\n",
       "<ellipse fill=\"none\" stroke=\"black\" cx=\"109.19\" cy=\"-18\" rx=\"109.38\" ry=\"18\"/>\n",
       "<text text-anchor=\"middle\" x=\"109.19\" y=\"-14.3\" font-family=\"Times,serif\" font-size=\"14.00\">ga_ls_wo_fq_myear_3</text>\n",
       "</g>\n",
       "<!-- B -->\n",
       "<g id=\"node2\" class=\"node\">\n",
       "<title>B</title>\n",
       "<ellipse fill=\"none\" stroke=\"black\" cx=\"109.19\" cy=\"-90\" rx=\"105.08\" ry=\"18\"/>\n",
       "<text text-anchor=\"middle\" x=\"109.19\" y=\"-86.3\" font-family=\"Times,serif\" font-size=\"14.00\">ga_ls_wo_fq_cyear_3</text>\n",
       "</g>\n",
       "<!-- B&#45;&gt;A -->\n",
       "<g id=\"edge1\" class=\"edge\">\n",
       "<title>B&#45;&gt;A</title>\n",
       "<path fill=\"none\" stroke=\"black\" d=\"M109.19,-71.7C109.19,-63.98 109.19,-54.71 109.19,-46.11\"/>\n",
       "<polygon fill=\"black\" stroke=\"black\" points=\"112.69,-46.1 109.19,-36.1 105.69,-46.1 112.69,-46.1\"/>\n",
       "</g>\n",
       "<!-- C -->\n",
       "<g id=\"node3\" class=\"node\">\n",
       "<title>C</title>\n",
       "<ellipse fill=\"none\" stroke=\"black\" cx=\"109.19\" cy=\"-162\" rx=\"61.99\" ry=\"18\"/>\n",
       "<text text-anchor=\"middle\" x=\"109.19\" y=\"-158.3\" font-family=\"Times,serif\" font-size=\"14.00\">ga_ls_wo_3</text>\n",
       "</g>\n",
       "<!-- C&#45;&gt;B -->\n",
       "<g id=\"edge2\" class=\"edge\">\n",
       "<title>C&#45;&gt;B</title>\n",
       "<path fill=\"none\" stroke=\"black\" d=\"M109.19,-143.7C109.19,-135.98 109.19,-126.71 109.19,-118.11\"/>\n",
       "<polygon fill=\"black\" stroke=\"black\" points=\"112.69,-118.1 109.19,-108.1 105.69,-118.1 112.69,-118.1\"/>\n",
       "</g>\n",
       "<!-- D -->\n",
       "<g id=\"node4\" class=\"node\">\n",
       "<title>D</title>\n",
       "<ellipse fill=\"none\" stroke=\"black\" cx=\"109.19\" cy=\"-234\" rx=\"75.29\" ry=\"18\"/>\n",
       "<text text-anchor=\"middle\" x=\"109.19\" y=\"-230.3\" font-family=\"Times,serif\" font-size=\"14.00\">ga_ls8c_ard_3</text>\n",
       "</g>\n",
       "<!-- D&#45;&gt;C -->\n",
       "<g id=\"edge3\" class=\"edge\">\n",
       "<title>D&#45;&gt;C</title>\n",
       "<path fill=\"none\" stroke=\"black\" d=\"M109.19,-215.7C109.19,-207.98 109.19,-198.71 109.19,-190.11\"/>\n",
       "<polygon fill=\"black\" stroke=\"black\" points=\"112.69,-190.1 109.19,-180.1 105.69,-190.1 112.69,-190.1\"/>\n",
       "</g>\n",
       "</g>\n",
       "</svg>\n"
      ],
      "text/plain": [
       "<graphviz.dot.Digraph at 0x7f155ccd8100>"
      ]
     },
     "execution_count": 51,
     "metadata": {},
     "output_type": "execute_result"
    }
   ],
   "source": [
    "dotlist[12]"
   ]
  },
  {
   "cell_type": "code",
   "execution_count": 35,
   "metadata": {},
   "outputs": [
    {
     "data": {
      "text/plain": [
       "graphviz.dot.Digraph"
      ]
     },
     "execution_count": 35,
     "metadata": {},
     "output_type": "execute_result"
    }
   ],
   "source": [
    "type(dot)"
   ]
  },
  {
   "cell_type": "code",
   "execution_count": 32,
   "metadata": {},
   "outputs": [],
   "source": [
    "dot = \"\"\"// DEA Product Dependency Graphviz \n",
    "digraph {\n",
    "\tA [label=ga_ls_wo_fq_nov_mar_3]\n",
    "\tB [label=ga_ls_wo_3]\n",
    "\tC [label=ga_ls5t_ard_3]\n",
    "\tB -> A\n",
    "\tC -> B\n",
    "}\"\"\""
   ]
  },
  {
   "cell_type": "code",
   "execution_count": null,
   "metadata": {},
   "outputs": [],
   "source": [
    "# TODO Build giant tree of all products\n",
    "# build on tree information looping through product_id_list\n",
    "# what to do with alphabet limit - will be exceeded"
   ]
  },
  {
   "cell_type": "code",
   "execution_count": 53,
   "metadata": {},
   "outputs": [
    {
     "data": {
      "text/plain": [
       "({'ga_ls_wo_fq_myear_3': ['ga_ls_wo_fq_cyear_3']},\n",
       " {'ga_ls_wo_fq_cyear_3': '39a7431a-d734-4430-a61e-c34d6b0ea517'})"
      ]
     },
     "execution_count": 53,
     "metadata": {},
     "output_type": "execute_result"
    }
   ],
   "source": [
    "get_source_product('6fe15c55-2ca6-44bf-ab44-a2392e55021c')"
   ]
  },
  {
   "cell_type": "code",
   "execution_count": 54,
   "metadata": {},
   "outputs": [
    {
     "data": {
      "text/plain": [
       "({'ga_ls_wo_fq_cyear_3': ['ga_ls_wo_3']},\n",
       " {'ga_ls_wo_3': '01c79bfb-c22e-552c-8fc0-45341afa1827'})"
      ]
     },
     "execution_count": 54,
     "metadata": {},
     "output_type": "execute_result"
    }
   ],
   "source": [
    "get_source_product('39a7431a-d734-4430-a61e-c34d6b0ea517')"
   ]
  },
  {
   "cell_type": "code",
   "execution_count": 55,
   "metadata": {},
   "outputs": [
    {
     "data": {
      "text/plain": [
       "({'ga_ls_wo_3': ['ga_ls8c_ard_3']},\n",
       " {'ga_ls8c_ard_3': '3e1f54f5-7a08-493e-99a6-c8a3ae9f3dd9'})"
      ]
     },
     "execution_count": 55,
     "metadata": {},
     "output_type": "execute_result"
    }
   ],
   "source": [
    "get_source_product('01c79bfb-c22e-552c-8fc0-45341afa1827')"
   ]
  },
  {
   "cell_type": "code",
   "execution_count": 56,
   "metadata": {},
   "outputs": [
    {
     "data": {
      "text/plain": [
       "({'ga_ls8c_ard_3': []}, {})"
      ]
     },
     "execution_count": 56,
     "metadata": {},
     "output_type": "execute_result"
    }
   ],
   "source": [
    "get_source_product('3e1f54f5-7a08-493e-99a6-c8a3ae9f3dd9')"
   ]
  },
  {
   "cell_type": "code",
   "execution_count": 59,
   "metadata": {},
   "outputs": [],
   "source": [
    "products = dc.list_products()"
   ]
  },
  {
   "cell_type": "code",
   "execution_count": 82,
   "metadata": {},
   "outputs": [
    {
     "data": {
      "text/plain": [
       "'Geoscience Australia Landsat Water Observations Frequency Calendar Year Collection 3'"
      ]
     },
     "execution_count": 82,
     "metadata": {},
     "output_type": "execute_result"
    }
   ],
   "source": [
    "products[dc.list_products()['name']=='ga_ls_wo_fq_cyear_3'].description[0]"
   ]
  },
  {
   "cell_type": "code",
   "execution_count": 93,
   "metadata": {},
   "outputs": [
    {
     "data": {
      "text/plain": [
       "'Geoscience Australia Landsat Water Observations Frequency Calendar Year Collection 3'"
      ]
     },
     "execution_count": 93,
     "metadata": {},
     "output_type": "execute_result"
    }
   ],
   "source": [
    "get_source_description('ga_ls_wo_fq_cyear_3')"
   ]
  },
  {
   "cell_type": "code",
   "execution_count": null,
   "metadata": {},
   "outputs": [],
   "source": []
  }
 ],
 "metadata": {
  "celltoolbar": "Raw Cell Format",
  "kernelspec": {
   "display_name": "Python 3 (ipykernel)",
   "language": "python",
   "name": "python3"
  },
  "language_info": {
   "codemirror_mode": {
    "name": "ipython",
    "version": 3
   },
   "file_extension": ".py",
   "mimetype": "text/x-python",
   "name": "python",
   "nbconvert_exporter": "python",
   "pygments_lexer": "ipython3",
   "version": "3.8.10"
  }
 },
 "nbformat": 4,
 "nbformat_minor": 4
}
