{
 "cells": [
  {
   "cell_type": "markdown",
   "metadata": {},
   "source": [
    "# Generate a product dependency graph from ODC DEA product"
   ]
  },
  {
   "cell_type": "code",
   "execution_count": 3,
   "metadata": {},
   "outputs": [],
   "source": [
    "import string\n",
    "from graphviz import Digraph\n",
    "import datacube\n",
    "dc = datacube.Datacube()"
   ]
  },
  {
   "cell_type": "markdown",
   "metadata": {},
   "source": [
    "# Get Candidate Product UUID"
   ]
  },
  {
   "cell_type": "code",
   "execution_count": 4,
   "metadata": {
    "scrolled": false
   },
   "outputs": [
    {
     "name": "stdout",
     "output_type": "stream",
     "text": [
      "bom_rainfall_grids\n",
      "dsm\n",
      "dsm1sv10\n",
      "fc_percentile_albers_annual\n",
      "ga_ls5t_ard_3\n",
      "ga_ls5t_level1_3\n",
      "ga_ls7e_ard_3\n",
      "ga_ls7e_level1_3\n",
      "ga_ls8c_ard_3\n",
      "ga_ls8c_level1_3\n",
      "gamma_ray\n",
      "high_tide_comp_20p\n",
      "high_tide_comp_count\n",
      "item_v2\n",
      "item_v2_conf\n",
      "landsat_barest_earth\n",
      "low_tide_comp_20p\n",
      "low_tide_comp_count\n",
      "ls5_fc_albers\n",
      "ls5_level1_scene\n",
      "ls5_nbar_albers\n",
      "ls5_nbar_scene\n",
      "ls5_nbart_albers\n",
      "ls5_nbart_geomedian_annual\n",
      "ls5_nbart_scene\n",
      "ls5_nbart_tmad_annual\n",
      "ls5_pq_albers\n",
      "ls5_pq_legacy_scene\n",
      "ls5_pq_scene\n",
      "ls5_satellite_telemetry_data\n",
      "ls5_usgs_l2c1\n",
      "ls7_fc_albers\n",
      "ls7_level1_scene\n",
      "ls7_nbar_albers\n",
      "ls7_nbar_scene\n",
      "ls7_nbart_albers\n",
      "ls7_nbart_geomedian_annual\n",
      "ls7_nbart_scene\n",
      "ls7_nbart_tmad_annual\n",
      "ls7_pq_albers\n",
      "ls7_pq_legacy_scene\n",
      "ls7_pq_scene\n",
      "ls7_satellite_telemetry_data\n",
      "ls7_usgs_l2c1\n",
      "ls8_barest_earth_mosaic\n",
      "ls8_fc_albers\n",
      "ls8_level1_oli_scene\n",
      "ls8_level1_scene\n",
      "ls8_nbar_albers\n",
      "ls8_nbar_oli_albers\n",
      "ls8_nbar_oli_scene\n",
      "ls8_nbar_scene\n",
      "ls8_nbart_albers\n",
      "ls8_nbart_geomedian_annual\n",
      "ls8_nbart_oli_albers\n",
      "ls8_nbart_oli_scene\n",
      "ls8_nbart_scene\n",
      "ls8_nbart_tmad_annual\n",
      "ls8_pq_albers\n",
      "ls8_pq_legacy_oli_scene\n",
      "ls8_pq_legacy_scene\n",
      "ls8_pq_oli_albers\n",
      "ls8_pq_oli_scene\n",
      "ls8_pq_scene\n",
      "ls8_satellite_telemetry_data\n",
      "ls8_usgs_l2c1\n",
      "mangrove_extent_cover_albers\n",
      "modis\n",
      "mrvbf\n",
      "pq_count_annual_summary\n",
      "pq_count_summary\n",
      "s2a_ard_granule\n",
      "s2a_level1c_granule\n",
      "s2b_ard_granule\n",
      "s2b_level1c_granule\n",
      "s2_tsmask\n",
      "srtm_dem1sv1_0\n",
      "urban_areas\n",
      "usgs_ls5t_level1_1\n",
      "usgs_ls7e_level1_1\n",
      "usgs_ls8c_level1_1\n",
      "wofs_albers\n",
      "wofs_annual_summary\n",
      "wofs_apr_oct_summary\n",
      "wofs_filtered_summary\n",
      "wofs_nov_mar_summary\n",
      "wofs_summary\n"
     ]
    }
   ],
   "source": [
    "for i in dc.list_products().name:\n",
    "    print(i)\n",
    "    # Print measurements for each product\n",
    "    #for j in dc.list_measurements().query('product == @i').name:\n",
    "    #    print(i, '--',j)"
   ]
  },
  {
   "cell_type": "code",
   "execution_count": 5,
   "metadata": {},
   "outputs": [],
   "source": [
    "def get_sample_product_id(product):\n",
    "    # get a sample id to represent the product\n",
    "    # TODO query\n",
    "    sample_id = dc.index.datasets.search_eager(product=product)[0].metadata_doc['id']\n",
    "    return(sample_id)"
   ]
  },
  {
   "cell_type": "code",
   "execution_count": 6,
   "metadata": {},
   "outputs": [],
   "source": [
    "def get_source_product(sample_id):\n",
    "    # retrieve a sample metadata source using the sample_id but with sources included (excluded by default)\n",
    "    sample_md = dc.index.datasets.get(sample_id, include_sources=True)\n",
    "   \n",
    "    sources_dict = {}\n",
    "    product_list = []\n",
    "    \n",
    "    for i in sample_md.sources:\n",
    "        \n",
    "        sources_dict[sample_md.sources[i].type.name] = str(sample_md.sources[i].id)\n",
    "        \n",
    "    return(({sample_md.type.name: list(set(sources_dict))} , sources_dict))\n",
    "    "
   ]
  },
  {
   "cell_type": "code",
   "execution_count": 12,
   "metadata": {},
   "outputs": [
    {
     "ename": "NameError",
     "evalue": "name 'get_product_id' is not defined",
     "output_type": "error",
     "traceback": [
      "\u001b[0;31m---------------------------------------------------------------------------\u001b[0m",
      "\u001b[0;31mNameError\u001b[0m                                 Traceback (most recent call last)",
      "\u001b[0;32m<ipython-input-12-228bd5328734>\u001b[0m in \u001b[0;36m<module>\u001b[0;34m\u001b[0m\n\u001b[0;32m----> 1\u001b[0;31m \u001b[0msample_id\u001b[0m \u001b[0;34m=\u001b[0m \u001b[0mget_product_id\u001b[0m\u001b[0;34m(\u001b[0m\u001b[0;34m'high_tide_comp_20p'\u001b[0m\u001b[0;34m)\u001b[0m\u001b[0;34m\u001b[0m\u001b[0;34m\u001b[0m\u001b[0m\n\u001b[0m",
      "\u001b[0;31mNameError\u001b[0m: name 'get_product_id' is not defined"
     ]
    }
   ],
   "source": [
    "sample_id = get_product_id('high_tide_comp_20p')"
   ]
  },
  {
   "cell_type": "code",
   "execution_count": 7,
   "metadata": {},
   "outputs": [],
   "source": [
    "# Sample product IDs\n",
    "product_id = '67eadd05-3500-47dd-8929-fcbb4c35693d' #(TMAD)\n",
    "product_id = 'b14d5398-24ca-4100-8094-09d6b17d88f7' #WOFS filtered summary)\n",
    "product_id = 'efd31370-bf2d-45b3-9302-9e04fa7efaf8' #WOFS Albers"
   ]
  },
  {
   "cell_type": "code",
   "execution_count": 8,
   "metadata": {},
   "outputs": [
    {
     "data": {
      "text/plain": [
       "[{'wofs_albers': ['ls5_pq_legacy_scene', 'dsm1sv10', 'ls5_nbart_albers']},\n",
       " {'ls5_nbart_albers': ['ls5_nbart_scene']},\n",
       " {'dsm1sv10': []},\n",
       " {'ls5_pq_legacy_scene': ['ls5_level1_scene', 'ls5_nbar_scene']},\n",
       " {'ls5_level1_scene': ['ls5_satellite_telemetry_data']},\n",
       " {'ls5_satellite_telemetry_data': []},\n",
       " {'ls5_nbart_scene': ['ls5_level1_scene']},\n",
       " {'ls5_nbar_scene': ['ls5_level1_scene']}]"
      ]
     },
     "execution_count": 8,
     "metadata": {},
     "output_type": "execute_result"
    }
   ],
   "source": [
    "product_id = 'efd31370-bf2d-45b3-9302-9e04fa7efaf8'\n",
    "id_list = []\n",
    "sources_list = []\n",
    "# get an initial set of UUIDs\n",
    "tree, sources_dict = get_source_product(product_id)\n",
    "\n",
    "# for each UUID - get their decendent UUID and work up the tree until no sources returned\n",
    "for source in sources_dict:\n",
    "    id_list.append(sources_dict[source])\n",
    "sources_list.append(tree)\n",
    "    \n",
    "# while requests for source products return results i.e. not {},\n",
    "while len(id_list) != 0:\n",
    "    \n",
    "    # for each UUID in the list\n",
    "    for i in id_list:        \n",
    "        id_list.remove(i)\n",
    "\n",
    "        tree, sources_dict = get_source_product(i)\n",
    "        if tree not in sources_list:\n",
    "            sources_list.append(tree)\n",
    "        if not sources_dict == {}: \n",
    "            for source in sources_dict:\n",
    "                id_list.append(sources_dict[source])\n",
    "                    \n",
    "sources_list"
   ]
  },
  {
   "cell_type": "code",
   "execution_count": 9,
   "metadata": {},
   "outputs": [
    {
     "name": "stdout",
     "output_type": "stream",
     "text": [
      "// DEA Product Dependency Graphviz\n",
      "digraph {\n",
      "\tA [label=wofs_albers]\n",
      "\tB [label=ls5_nbart_albers]\n",
      "\tC [label=dsm1sv10]\n",
      "\tD [label=ls5_pq_legacy_scene]\n",
      "\tE [label=ls5_level1_scene]\n",
      "\tF [label=ls5_satellite_telemetry_data]\n",
      "\tG [label=ls5_nbart_scene]\n",
      "\tH [label=ls5_nbar_scene]\n",
      "}\n"
     ]
    }
   ],
   "source": [
    "alphabet = string.ascii_uppercase\n",
    "count = 0\n",
    "dot_list = []\n",
    "dot = Digraph(comment='DEA Product Dependency Graphviz')\n",
    "index_alpha = {}\n",
    "for i in sources_list:\n",
    "    index_alpha[list(i.keys())[0]] = alphabet[count]\n",
    "    dot_list.append((alphabet[count], list(i.keys())[0]))\n",
    "    dot.node(alphabet[count], list(i.keys())[0])\n",
    "    count = count+1\n",
    "#for i in dot_list:\n",
    "#    print(i)\n",
    "print(dot.source)"
   ]
  },
  {
   "cell_type": "code",
   "execution_count": 10,
   "metadata": {},
   "outputs": [
    {
     "name": "stdout",
     "output_type": "stream",
     "text": [
      "{'wofs_albers': ['ls5_pq_legacy_scene', 'dsm1sv10', 'ls5_nbart_albers']}\n",
      "{'ls5_nbart_albers': ['ls5_nbart_scene']}\n",
      "{'dsm1sv10': []}\n",
      "{'ls5_pq_legacy_scene': ['ls5_level1_scene', 'ls5_nbar_scene']}\n",
      "{'ls5_level1_scene': ['ls5_satellite_telemetry_data']}\n",
      "{'ls5_satellite_telemetry_data': []}\n",
      "{'ls5_nbart_scene': ['ls5_level1_scene']}\n",
      "{'ls5_nbar_scene': ['ls5_level1_scene']}\n",
      "['DA', 'CA', 'BA', 'GB', 'ED', 'HD', 'FE', 'EG', 'EH']\n"
     ]
    }
   ],
   "source": [
    "dot_edges = []\n",
    "for source in sources_list:\n",
    "    print(source)\n",
    "    for i in source[list(source.keys())[0]]:\n",
    "        if not i == None: \n",
    "            dot_edges.append(index_alpha[i]+index_alpha[list(source.keys())[0]])\n",
    "dot.edges(dot_edges)\n",
    "print(dot_edges)"
   ]
  },
  {
   "cell_type": "code",
   "execution_count": 11,
   "metadata": {},
   "outputs": [
    {
     "data": {
      "image/svg+xml": [
       "<?xml version=\"1.0\" encoding=\"UTF-8\" standalone=\"no\"?>\n",
       "<!DOCTYPE svg PUBLIC \"-//W3C//DTD SVG 1.1//EN\"\n",
       " \"http://www.w3.org/Graphics/SVG/1.1/DTD/svg11.dtd\">\n",
       "<!-- Generated by graphviz version 2.42.3 (20191010.1750)\n",
       " -->\n",
       "<!-- Title: %3 Pages: 1 -->\n",
       "<svg width=\"450pt\" height=\"332pt\"\n",
       " viewBox=\"0.00 0.00 449.64 332.00\" xmlns=\"http://www.w3.org/2000/svg\" xmlns:xlink=\"http://www.w3.org/1999/xlink\">\n",
       "<g id=\"graph0\" class=\"graph\" transform=\"scale(1 1) rotate(0) translate(4 328)\">\n",
       "<title>%3</title>\n",
       "<polygon fill=\"white\" stroke=\"transparent\" points=\"-4,4 -4,-328 445.64,-328 445.64,4 -4,4\"/>\n",
       "<!-- A -->\n",
       "<g id=\"node1\" class=\"node\">\n",
       "<title>A</title>\n",
       "<ellipse fill=\"none\" stroke=\"black\" cx=\"260.84\" cy=\"-18\" rx=\"53.09\" ry=\"18\"/>\n",
       "<text text-anchor=\"middle\" x=\"260.84\" y=\"-14.3\" font-family=\"Times,serif\" font-size=\"14.00\">wofs_albers</text>\n",
       "</g>\n",
       "<!-- B -->\n",
       "<g id=\"node2\" class=\"node\">\n",
       "<title>B</title>\n",
       "<ellipse fill=\"none\" stroke=\"black\" cx=\"260.84\" cy=\"-90\" rx=\"68.79\" ry=\"18\"/>\n",
       "<text text-anchor=\"middle\" x=\"260.84\" y=\"-86.3\" font-family=\"Times,serif\" font-size=\"14.00\">ls5_nbart_albers</text>\n",
       "</g>\n",
       "<!-- B&#45;&gt;A -->\n",
       "<g id=\"edge3\" class=\"edge\">\n",
       "<title>B&#45;&gt;A</title>\n",
       "<path fill=\"none\" stroke=\"black\" d=\"M260.84,-71.7C260.84,-63.98 260.84,-54.71 260.84,-46.11\"/>\n",
       "<polygon fill=\"black\" stroke=\"black\" points=\"264.34,-46.1 260.84,-36.1 257.34,-46.1 264.34,-46.1\"/>\n",
       "</g>\n",
       "<!-- C -->\n",
       "<g id=\"node3\" class=\"node\">\n",
       "<title>C</title>\n",
       "<ellipse fill=\"none\" stroke=\"black\" cx=\"394.84\" cy=\"-90\" rx=\"46.59\" ry=\"18\"/>\n",
       "<text text-anchor=\"middle\" x=\"394.84\" y=\"-86.3\" font-family=\"Times,serif\" font-size=\"14.00\">dsm1sv10</text>\n",
       "</g>\n",
       "<!-- C&#45;&gt;A -->\n",
       "<g id=\"edge2\" class=\"edge\">\n",
       "<title>C&#45;&gt;A</title>\n",
       "<path fill=\"none\" stroke=\"black\" d=\"M368.05,-75C347.77,-64.41 319.71,-49.75 297.38,-38.09\"/>\n",
       "<polygon fill=\"black\" stroke=\"black\" points=\"298.99,-34.98 288.51,-33.45 295.75,-41.19 298.99,-34.98\"/>\n",
       "</g>\n",
       "<!-- D -->\n",
       "<g id=\"node4\" class=\"node\">\n",
       "<title>D</title>\n",
       "<ellipse fill=\"none\" stroke=\"black\" cx=\"88.84\" cy=\"-90\" rx=\"85.29\" ry=\"18\"/>\n",
       "<text text-anchor=\"middle\" x=\"88.84\" y=\"-86.3\" font-family=\"Times,serif\" font-size=\"14.00\">ls5_pq_legacy_scene</text>\n",
       "</g>\n",
       "<!-- D&#45;&gt;A -->\n",
       "<g id=\"edge1\" class=\"edge\">\n",
       "<title>D&#45;&gt;A</title>\n",
       "<path fill=\"none\" stroke=\"black\" d=\"M126.16,-73.81C153.38,-62.73 190.31,-47.71 218.61,-36.19\"/>\n",
       "<polygon fill=\"black\" stroke=\"black\" points=\"220.29,-39.28 228.23,-32.27 217.65,-32.8 220.29,-39.28\"/>\n",
       "</g>\n",
       "<!-- E -->\n",
       "<g id=\"node5\" class=\"node\">\n",
       "<title>E</title>\n",
       "<ellipse fill=\"none\" stroke=\"black\" cx=\"109.84\" cy=\"-234\" rx=\"70.69\" ry=\"18\"/>\n",
       "<text text-anchor=\"middle\" x=\"109.84\" y=\"-230.3\" font-family=\"Times,serif\" font-size=\"14.00\">ls5_level1_scene</text>\n",
       "</g>\n",
       "<!-- E&#45;&gt;D -->\n",
       "<g id=\"edge5\" class=\"edge\">\n",
       "<title>E&#45;&gt;D</title>\n",
       "<path fill=\"none\" stroke=\"black\" d=\"M76.33,-218.08C61.03,-209.35 44.43,-196.73 35.84,-180 28.53,-165.77 29.72,-158.78 35.84,-144 40.5,-132.75 48.84,-122.64 57.54,-114.34\"/>\n",
       "<polygon fill=\"black\" stroke=\"black\" points=\"60.05,-116.8 65.2,-107.54 55.4,-111.56 60.05,-116.8\"/>\n",
       "</g>\n",
       "<!-- G -->\n",
       "<g id=\"node7\" class=\"node\">\n",
       "<title>G</title>\n",
       "<ellipse fill=\"none\" stroke=\"black\" cx=\"260.84\" cy=\"-162\" rx=\"67.69\" ry=\"18\"/>\n",
       "<text text-anchor=\"middle\" x=\"260.84\" y=\"-158.3\" font-family=\"Times,serif\" font-size=\"14.00\">ls5_nbart_scene</text>\n",
       "</g>\n",
       "<!-- E&#45;&gt;G -->\n",
       "<g id=\"edge8\" class=\"edge\">\n",
       "<title>E&#45;&gt;G</title>\n",
       "<path fill=\"none\" stroke=\"black\" d=\"M142.23,-217.98C164.8,-207.52 195.1,-193.48 219.42,-182.2\"/>\n",
       "<polygon fill=\"black\" stroke=\"black\" points=\"221.16,-185.25 228.76,-177.87 218.22,-178.9 221.16,-185.25\"/>\n",
       "</g>\n",
       "<!-- H -->\n",
       "<g id=\"node8\" class=\"node\">\n",
       "<title>H</title>\n",
       "<ellipse fill=\"none\" stroke=\"black\" cx=\"109.84\" cy=\"-162\" rx=\"64.99\" ry=\"18\"/>\n",
       "<text text-anchor=\"middle\" x=\"109.84\" y=\"-158.3\" font-family=\"Times,serif\" font-size=\"14.00\">ls5_nbar_scene</text>\n",
       "</g>\n",
       "<!-- E&#45;&gt;H -->\n",
       "<g id=\"edge9\" class=\"edge\">\n",
       "<title>E&#45;&gt;H</title>\n",
       "<path fill=\"none\" stroke=\"black\" d=\"M109.84,-215.7C109.84,-207.98 109.84,-198.71 109.84,-190.11\"/>\n",
       "<polygon fill=\"black\" stroke=\"black\" points=\"113.34,-190.1 109.84,-180.1 106.34,-190.1 113.34,-190.1\"/>\n",
       "</g>\n",
       "<!-- F -->\n",
       "<g id=\"node6\" class=\"node\">\n",
       "<title>F</title>\n",
       "<ellipse fill=\"none\" stroke=\"black\" cx=\"109.84\" cy=\"-306\" rx=\"109.68\" ry=\"18\"/>\n",
       "<text text-anchor=\"middle\" x=\"109.84\" y=\"-302.3\" font-family=\"Times,serif\" font-size=\"14.00\">ls5_satellite_telemetry_data</text>\n",
       "</g>\n",
       "<!-- F&#45;&gt;E -->\n",
       "<g id=\"edge7\" class=\"edge\">\n",
       "<title>F&#45;&gt;E</title>\n",
       "<path fill=\"none\" stroke=\"black\" d=\"M109.84,-287.7C109.84,-279.98 109.84,-270.71 109.84,-262.11\"/>\n",
       "<polygon fill=\"black\" stroke=\"black\" points=\"113.34,-262.1 109.84,-252.1 106.34,-262.1 113.34,-262.1\"/>\n",
       "</g>\n",
       "<!-- G&#45;&gt;B -->\n",
       "<g id=\"edge4\" class=\"edge\">\n",
       "<title>G&#45;&gt;B</title>\n",
       "<path fill=\"none\" stroke=\"black\" d=\"M260.84,-143.7C260.84,-135.98 260.84,-126.71 260.84,-118.11\"/>\n",
       "<polygon fill=\"black\" stroke=\"black\" points=\"264.34,-118.1 260.84,-108.1 257.34,-118.1 264.34,-118.1\"/>\n",
       "</g>\n",
       "<!-- H&#45;&gt;D -->\n",
       "<g id=\"edge6\" class=\"edge\">\n",
       "<title>H&#45;&gt;D</title>\n",
       "<path fill=\"none\" stroke=\"black\" d=\"M104.76,-144.05C102.42,-136.26 99.59,-126.82 96.96,-118.08\"/>\n",
       "<polygon fill=\"black\" stroke=\"black\" points=\"100.25,-116.85 94.02,-108.28 93.54,-118.86 100.25,-116.85\"/>\n",
       "</g>\n",
       "</g>\n",
       "</svg>\n"
      ],
      "text/plain": [
       "<graphviz.dot.Digraph at 0x7fe4469b39e8>"
      ]
     },
     "execution_count": 11,
     "metadata": {},
     "output_type": "execute_result"
    }
   ],
   "source": [
    "dot"
   ]
  }
 ],
 "metadata": {
  "kernelspec": {
   "display_name": "Python 3",
   "language": "python",
   "name": "python3"
  },
  "language_info": {
   "codemirror_mode": {
    "name": "ipython",
    "version": 3
   },
   "file_extension": ".py",
   "mimetype": "text/x-python",
   "name": "python",
   "nbconvert_exporter": "python",
   "pygments_lexer": "ipython3",
   "version": "3.6.10"
  }
 },
 "nbformat": 4,
 "nbformat_minor": 2
}
